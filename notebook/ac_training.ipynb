{
 "cells": [
  {
   "cell_type": "code",
   "execution_count": 2,
   "metadata": {},
   "outputs": [
    {
     "data": {
      "text/plain": [
       "'e:\\\\github_clone\\\\Intrinsic-Curiosity-Module---RL'"
      ]
     },
     "execution_count": 2,
     "metadata": {},
     "output_type": "execute_result"
    }
   ],
   "source": [
    "import os\n",
    "os.chdir('../')\n",
    "os.getcwd()"
   ]
  },
  {
   "cell_type": "code",
   "execution_count": 3,
   "metadata": {},
   "outputs": [],
   "source": [
    "from ICM.actor_critic import ActorCritic, ActorCriticGAT\n",
    "from ICM.converter import ActionConverter\n",
    "from ICM.trainer import  Trainer, GraphAgentTrainer\n",
    "from lightsim2grid import LightSimBackend\n",
    "from grid2op.Reward import L2RPNSandBoxScore\n",
    "from ICM.custom_reward import LossReward, MarginReward\n",
    "import grid2op"
   ]
  },
  {
   "cell_type": "code",
   "execution_count": 4,
   "metadata": {},
   "outputs": [
    {
     "name": "stdout",
     "output_type": "stream",
     "text": [
      "Grid2Op version: 1.12.1\n",
      "LightSim2Grid version: 0.10.3\n",
      "PandaPower version: 3.1.2\n"
     ]
    }
   ],
   "source": [
    "import pandapower\n",
    "import lightsim2grid\n",
    "\n",
    "print(\"Grid2Op version:\", grid2op.__version__)\n",
    "print(\"LightSim2Grid version:\", lightsim2grid.__version__)\n",
    "print(\"PandaPower version:\", pandapower.__version__)"
   ]
  },
  {
   "cell_type": "code",
   "execution_count": 4,
   "metadata": {},
   "outputs": [],
   "source": [
    "env = grid2op.make(\"l2rpn_case14_sandbox\", \n",
    "                #reward_class=L2RPNSandBoxScore,\n",
    "                backend=LightSimBackend(),\n",
    "                #other_rewards={\"loss\": LossReward, \"margin\": MarginReward}\n",
    "                   )\n",
    "converter = ActionConverter(env=env)"
   ]
  },
  {
   "cell_type": "code",
   "execution_count": 5,
   "metadata": {},
   "outputs": [
    {
     "name": "stdout",
     "output_type": "stream",
     "text": [
      "10:45:41 | INFO     | Episode path : ICM\\episode_length\n"
     ]
    }
   ],
   "source": [
    "config = {\n",
    "    \"input_dim\":11,#env.observation_space.shape.sum(),\n",
    "    \"action_dim\":converter.n,\n",
    "    \"gamma\": 0.99,\n",
    "    \"lr\": 0.0003,\n",
    "    \"betas\": (0.9, 0.999),\n",
    "    \"update_freq\": 1024,\n",
    "    \"save_path\":\"ICM\\models\",\n",
    "    \"episode_path\":\"ICM\\episode_length\",\n",
    "    'episodes': 10000,\n",
    "    'max_ep_len':10000,\n",
    "    'icm_lr':1e-4,\n",
    "    'beta':1e-4,\n",
    "    'alpha':1e-4,\n",
    "    'batch_size':256,\n",
    "    'intrinsic_reward_weight':1,\n",
    "}\n",
    "\n",
    "agent = ActorCriticGAT(config=config)\n",
    "trainer = GraphAgentTrainer(agent=agent, env=env, converter=converter, config=config)"
   ]
  },
  {
   "cell_type": "code",
   "execution_count": 6,
   "metadata": {},
   "outputs": [
    {
     "name": "stdout",
     "output_type": "stream",
     "text": [
      "10:45:42 | INFO     | Episode : 0\n",
      "10:45:44 | INFO     | Episode 0 reward: 376.4221839904785\n",
      "10:45:44 | INFO     | Episode 0\tlength: 6\treward: 376.4221839904785\n",
      "10:45:44 | INFO     | Episode : 1\n",
      "10:45:45 | INFO     | Episode 1 reward: 8592.88176727295\n",
      "10:45:45 | INFO     | Episode : 2\n",
      "10:45:46 | INFO     | Episode 2 reward: 238.69865036010742\n",
      "10:45:46 | INFO     | Episode : 3\n",
      "10:45:47 | INFO     | Episode 3 reward: 8078.046951293945\n",
      "10:45:48 | INFO     | Episode : 4\n",
      "10:45:48 | INFO     | Episode 4 reward: 764.1465873718262\n",
      "10:45:48 | INFO     | Episode : 5\n",
      "10:45:53 | INFO     | Episode 5 reward: 26165.70778274536\n",
      "10:45:55 | INFO     | Episode : 6\n"
     ]
    }
   ],
   "source": [
    "trainer.train()"
   ]
  },
  {
   "cell_type": "code",
   "execution_count": null,
   "metadata": {},
   "outputs": [],
   "source": []
  }
 ],
 "metadata": {
  "kernelspec": {
   "display_name": "l2rpn-test",
   "language": "python",
   "name": "python3"
  },
  "language_info": {
   "codemirror_mode": {
    "name": "ipython",
    "version": 3
   },
   "file_extension": ".py",
   "mimetype": "text/x-python",
   "name": "python",
   "nbconvert_exporter": "python",
   "pygments_lexer": "ipython3",
   "version": "3.10.18"
  }
 },
 "nbformat": 4,
 "nbformat_minor": 2
}
